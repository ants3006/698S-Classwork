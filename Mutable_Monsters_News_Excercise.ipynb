{
 "cells": [
  {
   "cell_type": "markdown",
   "metadata": {},
   "source": [
    "# News Scraping: APNews Health\n",
    "##### Antonella Sciortino & Amil Arthur  "
   ]
  },
  {
   "cell_type": "code",
   "execution_count": 24,
   "metadata": {},
   "outputs": [],
   "source": [
    "#Import Libraries \n",
    "import requests\n",
    "from bs4 import BeautifulSoup\n",
    "import numpy as np\n",
    "import pandas as pd\n",
    "import csv"
   ]
  },
  {
   "cell_type": "markdown",
   "metadata": {},
   "source": [
    "### Obtain list of news from the coverpage"
   ]
  },
  {
   "cell_type": "code",
   "execution_count": 25,
   "metadata": {},
   "outputs": [],
   "source": [
    "# url definition\n",
    "url = \"https://apnews.com/apf-Health\""
   ]
  },
  {
   "cell_type": "code",
   "execution_count": 26,
   "metadata": {},
   "outputs": [
    {
     "data": {
      "text/plain": [
       "41"
      ]
     },
     "execution_count": 26,
     "metadata": {},
     "output_type": "execute_result"
    }
   ],
   "source": [
    "#Retrive List of news\n",
    "\n",
    "# Request\n",
    "r1 = requests.get(url)\n",
    "\n",
    "\n",
    "# We'll save in coverpage the cover page content\n",
    "coverpage = r1.content\n",
    "\n",
    "# Soup creation\n",
    "soup = BeautifulSoup(coverpage)\n",
    "\n",
    "# News identification\n",
    "coverpage_news = soup.find_all(class_='FeedCard Component-wireStory-0-2-94 card-0-2-95')\n",
    "len(coverpage_news)"
   ]
  },
  {
   "cell_type": "markdown",
   "metadata": {},
   "source": [
    "Now we have a list in which every element is a news article:"
   ]
  },
  {
   "cell_type": "code",
   "execution_count": 19,
   "metadata": {},
   "outputs": [
    {
     "data": {
      "text/plain": [
       "<div class=\"FeedCard Component-wireStory-0-2-94 card-0-2-95\" data-key=\"feed-card-wire-story-with-image\" data-tb-region-item=\"true\"><div class=\"CardHeadline headline-0-2-97\"><a class=\"Component-headline-0-2-106\" data-key=\"card-headline\" href=\"/80f119f63a644f15c25c0ce7a8e38735\"><h1 class=\"Component-h1-0-2-107\">Cambridge University scraps in-person lectures for 2020-2021</h1></a><div class=\"Component-signature-0-2-108\"><span class=\"Component-bylines-0-2-109 Component-bylines-0-2-102\">By JILL LAWLESS</span><span class=\"Timestamp Component-root-0-2-111 Component-timestamp-0-2-110\" data-key=\"timestamp\" data-source=\"2020-05-20T13:01:51Z\" title=\"2020-05-20 13:01:51 - Wed May 20 2020 13:01:51 GMT+0000 (Coordinated Universal Time)\">May 20, 2020 GMT</span></div></div><a class=\"image-0-2-98\" href=\"/80f119f63a644f15c25c0ce7a8e38735\"><div data-key=\"media-placeholder\"></div></a><a class=\"firstWords-0-2-99\" data-key=\"story-link\" href=\"/80f119f63a644f15c25c0ce7a8e38735\"><div class=\"content text-0-2-100\"><p>LONDON (AP) — Cambridge has become the first university in Britain to cancel all face-to-face lectures for the 2020-21 academic year because of the coronavirus pandemic, after 800 years of...</p></div></a></div>"
      ]
     },
     "execution_count": 19,
     "metadata": {},
     "output_type": "execute_result"
    }
   ],
   "source": [
    "coverpage_news[5]"
   ]
  },
  {
   "cell_type": "markdown",
   "metadata": {},
   "source": [
    "### Let's extract the text from the articles"
   ]
  },
  {
   "cell_type": "code",
   "execution_count": 20,
   "metadata": {},
   "outputs": [],
   "source": [
    "# First, we'll define the number of articles we want\n",
    "number_of_articles = 5"
   ]
  },
  {
   "cell_type": "code",
   "execution_count": 21,
   "metadata": {},
   "outputs": [],
   "source": [
    "# Lists for content, links and titles\n",
    "news_contents = []\n",
    "list_links = []\n",
    "list_titles = []\n",
    "list_dates = []\n",
    "\n",
    "for n in np.arange(0, number_of_articles):\n",
    "        \n",
    "\n",
    "    \n",
    "    # Getting the link of the article\n",
    "    link = 'https://apnews.com' + coverpage_news[n].find('a')['href']\n",
    "    list_links.append(link)\n",
    "    \n",
    "    # Getting the title\n",
    "    title = coverpage_news[n].find('a').get_text()\n",
    "    list_titles.append(title)\n",
    "    \n",
    "    #Get Article Date \n",
    "    dates = coverpage_news[n].find('span', class_= 'Timestamp Component-root-0-2-111 Component-timestamp-0-2-110').get_text()\n",
    "    list_dates.append(dates)\n",
    "    \n",
    "    # Reading the content (it is divided in paragraphs)\n",
    "    article = requests.get(link)\n",
    "    article_content = article.content\n",
    "    soup_article = BeautifulSoup(article_content)\n",
    "    body = soup_article.find_all('div', class_='Article')\n",
    "    x = body[0].find_all('p')\n",
    "    \n",
    "    # Unifying the paragraphs\n",
    "    list_paragraphs = []\n",
    "    for p in np.arange(0, len(x)):\n",
    "        paragraph = x[p].get_text()\n",
    "        list_paragraphs.append(paragraph)\n",
    "        final_article = \" \".join(list_paragraphs)\n",
    "        \n",
    "    news_contents.append(final_article)"
   ]
  },
  {
   "cell_type": "markdown",
   "metadata": {},
   "source": [
    "Save our news data from AP for later use into:\n",
    "* a dataframe object \n",
    "* a pickle object \n",
    "* a csv"
   ]
  },
  {
   "cell_type": "code",
   "execution_count": 22,
   "metadata": {},
   "outputs": [],
   "source": [
    "# df_APNews\n",
    "df_APNews = pd.DataFrame(\n",
    "    {'Article Date': list_dates,\n",
    "     'Article Title': list_titles,\n",
    "     'Article Link': list_links,\n",
    "      'Article Content': news_contents})\n",
    "     "
   ]
  },
  {
   "cell_type": "code",
   "execution_count": 23,
   "metadata": {},
   "outputs": [
    {
     "data": {
      "text/html": [
       "<div>\n",
       "<style scoped>\n",
       "    .dataframe tbody tr th:only-of-type {\n",
       "        vertical-align: middle;\n",
       "    }\n",
       "\n",
       "    .dataframe tbody tr th {\n",
       "        vertical-align: top;\n",
       "    }\n",
       "\n",
       "    .dataframe thead th {\n",
       "        text-align: right;\n",
       "    }\n",
       "</style>\n",
       "<table border=\"1\" class=\"dataframe\">\n",
       "  <thead>\n",
       "    <tr style=\"text-align: right;\">\n",
       "      <th></th>\n",
       "      <th>Article Date</th>\n",
       "      <th>Article Title</th>\n",
       "      <th>Article Link</th>\n",
       "      <th>Article Content</th>\n",
       "    </tr>\n",
       "  </thead>\n",
       "  <tbody>\n",
       "    <tr>\n",
       "      <td>0</td>\n",
       "      <td>May 20, 2020 GMT</td>\n",
       "      <td>Turkey’s pandemic strategy hinges on hazmat-su...</td>\n",
       "      <td>https://apnews.com/ace79485b6813e30b952f0d9b78...</td>\n",
       "      <td>ISTANBUL (AP) — They see themselves as public ...</td>\n",
       "    </tr>\n",
       "    <tr>\n",
       "      <td>1</td>\n",
       "      <td>May 20, 2020 GMT</td>\n",
       "      <td>Nations reopen yet struggle to define ‘a new n...</td>\n",
       "      <td>https://apnews.com/6303d40722e4254611cf35fa8b7...</td>\n",
       "      <td>ROME (AP) — As nations around the world loosen...</td>\n",
       "    </tr>\n",
       "    <tr>\n",
       "      <td>2</td>\n",
       "      <td>May 20, 2020 GMT</td>\n",
       "      <td>The Latest: Netherlands extends support packag...</td>\n",
       "      <td>https://apnews.com/26c55f5bdc8b894aeb9081fa12b...</td>\n",
       "      <td>The Latest on the coronavirus pandemic. The ne...</td>\n",
       "    </tr>\n",
       "    <tr>\n",
       "      <td>3</td>\n",
       "      <td>May 19, 2020 GMT</td>\n",
       "      <td>Trump allies lining up doctors to prescribe ra...</td>\n",
       "      <td>https://apnews.com/4ee1a3a8d631b454f645b2a8d95...</td>\n",
       "      <td>WASHINGTON (AP) — Republican political operati...</td>\n",
       "    </tr>\n",
       "    <tr>\n",
       "      <td>4</td>\n",
       "      <td>May 20, 2020 GMT</td>\n",
       "      <td>Uncertain future rattles Italy’s famed restaur...</td>\n",
       "      <td>https://apnews.com/8ff3843251874135c4038b9f9d6...</td>\n",
       "      <td>ROME (AP) — Italy’s restaurants and pizzerias,...</td>\n",
       "    </tr>\n",
       "  </tbody>\n",
       "</table>\n",
       "</div>"
      ],
      "text/plain": [
       "       Article Date                                      Article Title  \\\n",
       "0  May 20, 2020 GMT  Turkey’s pandemic strategy hinges on hazmat-su...   \n",
       "1  May 20, 2020 GMT  Nations reopen yet struggle to define ‘a new n...   \n",
       "2  May 20, 2020 GMT  The Latest: Netherlands extends support packag...   \n",
       "3  May 19, 2020 GMT  Trump allies lining up doctors to prescribe ra...   \n",
       "4  May 20, 2020 GMT  Uncertain future rattles Italy’s famed restaur...   \n",
       "\n",
       "                                        Article Link  \\\n",
       "0  https://apnews.com/ace79485b6813e30b952f0d9b78...   \n",
       "1  https://apnews.com/6303d40722e4254611cf35fa8b7...   \n",
       "2  https://apnews.com/26c55f5bdc8b894aeb9081fa12b...   \n",
       "3  https://apnews.com/4ee1a3a8d631b454f645b2a8d95...   \n",
       "4  https://apnews.com/8ff3843251874135c4038b9f9d6...   \n",
       "\n",
       "                                     Article Content  \n",
       "0  ISTANBUL (AP) — They see themselves as public ...  \n",
       "1  ROME (AP) — As nations around the world loosen...  \n",
       "2  The Latest on the coronavirus pandemic. The ne...  \n",
       "3  WASHINGTON (AP) — Republican political operati...  \n",
       "4  ROME (AP) — Italy’s restaurants and pizzerias,...  "
      ]
     },
     "execution_count": 23,
     "metadata": {},
     "output_type": "execute_result"
    }
   ],
   "source": [
    "df_APNews"
   ]
  },
  {
   "cell_type": "code",
   "execution_count": 15,
   "metadata": {},
   "outputs": [],
   "source": [
    "#Save to pickle\n",
    "df_APNews.to_pickle(\"./APNews.pkl\")"
   ]
  },
  {
   "cell_type": "code",
   "execution_count": 17,
   "metadata": {},
   "outputs": [],
   "source": [
    "#Save to spreadsheet\n",
    "df_APNews.to_csv(\"./APNews.csv\")"
   ]
  },
  {
   "cell_type": "code",
   "execution_count": null,
   "metadata": {},
   "outputs": [],
   "source": []
  }
 ],
 "metadata": {
  "kernelspec": {
   "display_name": "Python 3",
   "language": "python",
   "name": "python3"
  },
  "language_info": {
   "codemirror_mode": {
    "name": "ipython",
    "version": 3
   },
   "file_extension": ".py",
   "mimetype": "text/x-python",
   "name": "python",
   "nbconvert_exporter": "python",
   "pygments_lexer": "ipython3",
   "version": "3.7.4"
  }
 },
 "nbformat": 4,
 "nbformat_minor": 2
}
